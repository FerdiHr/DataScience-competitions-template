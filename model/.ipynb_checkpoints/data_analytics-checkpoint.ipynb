{
 "cells": [
  {
   "cell_type": "code",
   "execution_count": 1,
   "metadata": {},
   "outputs": [],
   "source": [
    "import pandas as pd\n",
    "import numpy as np\n",
    "import matplotlib.pyplot as plt\n",
    "import seaborn as sns\n",
    "import itertools\n",
    "import gc\n",
    "import os\n",
    "import sys\n",
    "import joblib, pickle\n",
    "import utils\n",
    "\n",
    "sns.set_palette('bone')"
   ]
  },
  {
   "cell_type": "code",
   "execution_count": 2,
   "metadata": {},
   "outputs": [],
   "source": [
    "def features_engineering(df):\n",
    "    df = fillInf(df, 0)\n",
    "    col_to_drop = []\n",
    "    df.drop(col_to_drop, axis=1, inplace=True)\n",
    "    return df"
   ]
  },
  {
   "cell_type": "code",
   "execution_count": null,
   "metadata": {},
   "outputs": [],
   "source": [
    "%%time\n",
    "print(\"Importing Data...\")\n",
    "train = pd.read_csv('../input/train.csv')\n",
    "train = reduce_mem_usage(train)\n",
    "test = pd.read_csv('../input/test.csv')\n",
    "test = reduce_mem_usage(test)\n",
    "print(train.shape, test.shape)"
   ]
  },
  {
   "cell_type": "code",
   "execution_count": null,
   "metadata": {},
   "outputs": [],
   "source": [
    "label_column_train = \"\""
   ]
  },
  {
   "cell_type": "code",
   "execution_count": null,
   "metadata": {},
   "outputs": [],
   "source": [
    "all_data = train.append(test, sort=False).reset_index(drop=True)\n",
    "all_data.event = all_data[label_column_train].fillna(\"Z\")\n",
    "del train, test"
   ]
  },
  {
   "cell_type": "code",
   "execution_count": null,
   "metadata": {},
   "outputs": [],
   "source": [
    "# Types, Data points, memory usage, etc.\n",
    "train.info()\n",
    "\n",
    "# Check dataframe's shape\n",
    "print('Shape of training set: ', train.shape)"
   ]
  },
  {
   "cell_type": "code",
   "execution_count": null,
   "metadata": {},
   "outputs": [],
   "source": [
    "cols_to_drop = ['Id', 'groupId', 'matchId', 'matchType']\n",
    "cols_to_fit = [col for col in df.columns if col not in cols_to_drop]\n",
    "corr = df[cols_to_fit].corr()\n",
    "\n",
    "plt.figure(figsize=(9,7))\n",
    "\n",
    "sns.heatmap(\n",
    "    corr,\n",
    "    xticklabels=corr.columns.values,\n",
    "    yticklabels=corr.columns.values,\n",
    "    linecolor='white',\n",
    "    linewidths=0.1,\n",
    "    cmap=\"RdBu\"\n",
    ")\n",
    "\n",
    "plt.show()"
   ]
  },
  {
   "cell_type": "code",
   "execution_count": null,
   "metadata": {},
   "outputs": [],
   "source": [
    "train = all_data[all_data[label_column_train] != \"Z\"]\n",
    "test = all_data[all_data[label_column_train] == \"Z\"]"
   ]
  }
 ],
 "metadata": {
  "kernelspec": {
   "display_name": "Python [default]",
   "language": "python",
   "name": "python3"
  },
  "language_info": {
   "codemirror_mode": {
    "name": "ipython",
    "version": 3
   },
   "file_extension": ".py",
   "mimetype": "text/x-python",
   "name": "python",
   "nbconvert_exporter": "python",
   "pygments_lexer": "ipython3",
   "version": "3.5.6"
  }
 },
 "nbformat": 4,
 "nbformat_minor": 2
}
